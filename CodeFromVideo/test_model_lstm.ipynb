{
 "cells": [
  {
   "cell_type": "code",
   "execution_count": 1,
   "metadata": {},
   "outputs": [
    {
     "name": "stderr",
     "output_type": "stream",
     "text": [
      "2022-09-17 21:19:58.192507: W tensorflow/stream_executor/platform/default/dso_loader.cc:64] Could not load dynamic library 'libcudart.so.11.0'; dlerror: libcudart.so.11.0: cannot open shared object file: No such file or directory\n",
      "2022-09-17 21:19:58.192542: I tensorflow/stream_executor/cuda/cudart_stub.cc:29] Ignore above cudart dlerror if you do not have a GPU set up on your machine.\n"
     ]
    }
   ],
   "source": [
    "import yfinance as yf\n",
    "import numpy as np\n",
    "import pandas as pd\n",
    "import tensorflow as tf\n",
    "from tensorflow.keras.layers import LSTM, Flatten, Dense\n",
    "from tensorflow.keras.models import Sequential\n",
    "import tensorflow.keras.backend as K\n",
    "from tensorflow.keras.layers.experimental import preprocessing\n",
    "from risk_model import Model\n",
    "from datetime import datetime\n",
    "\n",
    "import plotly.graph_objects as go\n",
    "from pandas_datareader import data as pdr\n",
    "%matplotlib inline\n",
    "\n",
    "from absl import logging\n",
    "tf.get_logger().setLevel('ERROR')\n",
    "\n",
    "float_formatter = \"{:.4f}\".format\n",
    "np.set_printoptions(formatter={'float_kind':float_formatter})\n",
    "tf.random.set_seed(123)\n",
    "\n",
    "np.random.seed(123)\n",
    "yf.pdr_override()  # <== that's all it takes :-)\n",
    "\n",
    "\n",
    "very_small_float = 1.0 #0.000000001"
   ]
  },
  {
   "cell_type": "code",
   "execution_count": 2,
   "metadata": {},
   "outputs": [],
   "source": [
    "from bt_testcode import backtest, DynRebalance, get_name, plotAllocation, getStatistic, calc_portfolio_values\n",
    "from bt_testcode import plotPortfolioReturns, get_portfolio_values"
   ]
  },
  {
   "cell_type": "markdown",
   "metadata": {},
   "source": [
    "# Test Model"
   ]
  },
  {
   "cell_type": "code",
   "execution_count": 3,
   "metadata": {},
   "outputs": [
    {
     "name": "stdout",
     "output_type": "stream",
     "text": [
      "[*********************100%***********************]  28 of 28 completed\n"
     ]
    }
   ],
   "source": [
    "ticker = \"\"\"AXISBANK.NS\tBPCL.NS\tBRITANNIA.NS\tCIPLA.NS\tDRREDDY.NS\tEICHERMOT.NS\tGAIL.NS\tHDFCBANK.NS\tHINDALCO.NS\tHINDUNILVR.NS\tINFY.NS\tIOC.NS\tITC.NS\tM&M.NS\tMARICO.NS\tONGC.NS\tRELIANCE.NS\tSAIL.NS\tSBIN.NS\tSIEMENS.NS\tSUNPHARMA.NS\tTATACONSUM.NS\tTATAMOTORS.NS\tTATAPOWER.NS\tTATASTEEL.NS\tTITAN.NS VEDL.NS\tWIPRO.NS\"\"\".split()\n",
    "benchmark_index = \"^BSESN\"\n",
    "history_range = {'start': datetime(2000, 1, 1), \n",
    "                 'end': datetime(2022, 9, 30)}\n",
    "\n",
    "stock = pdr.DataReader(ticker, \n",
    "                start=history_range['start'],\n",
    "                end=history_range['end'],\n",
    "                data_source='yahoo')"
   ]
  },
  {
   "cell_type": "code",
   "execution_count": 4,
   "metadata": {},
   "outputs": [
    {
     "data": {
      "text/html": [
       "<div>\n",
       "<style scoped>\n",
       "    .dataframe tbody tr th:only-of-type {\n",
       "        vertical-align: middle;\n",
       "    }\n",
       "\n",
       "    .dataframe tbody tr th {\n",
       "        vertical-align: top;\n",
       "    }\n",
       "\n",
       "    .dataframe thead th {\n",
       "        text-align: right;\n",
       "    }\n",
       "</style>\n",
       "<table border=\"1\" class=\"dataframe\">\n",
       "  <thead>\n",
       "    <tr style=\"text-align: right;\">\n",
       "      <th></th>\n",
       "      <th>AXISBANK.NS</th>\n",
       "      <th>BPCL.NS</th>\n",
       "      <th>BRITANNIA.NS</th>\n",
       "      <th>CIPLA.NS</th>\n",
       "      <th>DRREDDY.NS</th>\n",
       "      <th>EICHERMOT.NS</th>\n",
       "      <th>GAIL.NS</th>\n",
       "      <th>HDFCBANK.NS</th>\n",
       "      <th>HINDALCO.NS</th>\n",
       "      <th>HINDUNILVR.NS</th>\n",
       "      <th>...</th>\n",
       "      <th>SBIN.NS</th>\n",
       "      <th>SIEMENS.NS</th>\n",
       "      <th>SUNPHARMA.NS</th>\n",
       "      <th>TATACONSUM.NS</th>\n",
       "      <th>TATAMOTORS.NS</th>\n",
       "      <th>TATAPOWER.NS</th>\n",
       "      <th>TATASTEEL.NS</th>\n",
       "      <th>TITAN.NS</th>\n",
       "      <th>VEDL.NS</th>\n",
       "      <th>WIPRO.NS</th>\n",
       "    </tr>\n",
       "  </thead>\n",
       "  <tbody>\n",
       "    <tr>\n",
       "      <th>0</th>\n",
       "      <td>5.18</td>\n",
       "      <td>33.270832</td>\n",
       "      <td>75.690002</td>\n",
       "      <td>116.587997</td>\n",
       "      <td>377.062500</td>\n",
       "      <td>4.885</td>\n",
       "      <td>8.587504</td>\n",
       "      <td>17.000000</td>\n",
       "      <td>73.833130</td>\n",
       "      <td>230.755005</td>\n",
       "      <td>...</td>\n",
       "      <td>22.988886</td>\n",
       "      <td>54.494999</td>\n",
       "      <td>14.214153</td>\n",
       "      <td>56.450001</td>\n",
       "      <td>41.535931</td>\n",
       "      <td>7.406506</td>\n",
       "      <td>8.559305</td>\n",
       "      <td>7.7850</td>\n",
       "      <td>2.90875</td>\n",
       "      <td>102.157501</td>\n",
       "    </tr>\n",
       "    <tr>\n",
       "      <th>1</th>\n",
       "      <td>5.38</td>\n",
       "      <td>30.875000</td>\n",
       "      <td>75.455002</td>\n",
       "      <td>117.220001</td>\n",
       "      <td>407.237488</td>\n",
       "      <td>5.140</td>\n",
       "      <td>8.293754</td>\n",
       "      <td>17.379999</td>\n",
       "      <td>76.633423</td>\n",
       "      <td>228.104996</td>\n",
       "      <td>...</td>\n",
       "      <td>24.446625</td>\n",
       "      <td>54.654999</td>\n",
       "      <td>14.023603</td>\n",
       "      <td>55.090000</td>\n",
       "      <td>39.897491</td>\n",
       "      <td>7.420981</td>\n",
       "      <td>8.466666</td>\n",
       "      <td>7.3700</td>\n",
       "      <td>2.86750</td>\n",
       "      <td>110.330627</td>\n",
       "    </tr>\n",
       "    <tr>\n",
       "      <th>2</th>\n",
       "      <td>5.24</td>\n",
       "      <td>29.995832</td>\n",
       "      <td>73.529999</td>\n",
       "      <td>114.804001</td>\n",
       "      <td>392.012512</td>\n",
       "      <td>5.555</td>\n",
       "      <td>7.900003</td>\n",
       "      <td>16.695000</td>\n",
       "      <td>82.761711</td>\n",
       "      <td>219.990005</td>\n",
       "      <td>...</td>\n",
       "      <td>23.441774</td>\n",
       "      <td>52.250000</td>\n",
       "      <td>13.531350</td>\n",
       "      <td>52.794998</td>\n",
       "      <td>40.865227</td>\n",
       "      <td>7.565734</td>\n",
       "      <td>8.789500</td>\n",
       "      <td>6.9200</td>\n",
       "      <td>2.85000</td>\n",
       "      <td>112.128754</td>\n",
       "    </tr>\n",
       "    <tr>\n",
       "      <th>3</th>\n",
       "      <td>5.11</td>\n",
       "      <td>31.691666</td>\n",
       "      <td>78.565002</td>\n",
       "      <td>108.468002</td>\n",
       "      <td>415.387512</td>\n",
       "      <td>6.000</td>\n",
       "      <td>8.118754</td>\n",
       "      <td>16.830000</td>\n",
       "      <td>89.238976</td>\n",
       "      <td>228.820007</td>\n",
       "      <td>...</td>\n",
       "      <td>24.625893</td>\n",
       "      <td>53.000000</td>\n",
       "      <td>13.518182</td>\n",
       "      <td>54.560001</td>\n",
       "      <td>42.561157</td>\n",
       "      <td>7.802163</td>\n",
       "      <td>9.446396</td>\n",
       "      <td>7.4750</td>\n",
       "      <td>2.98250</td>\n",
       "      <td>109.959381</td>\n",
       "    </tr>\n",
       "    <tr>\n",
       "      <th>4</th>\n",
       "      <td>4.86</td>\n",
       "      <td>31.654165</td>\n",
       "      <td>84.849998</td>\n",
       "      <td>99.804001</td>\n",
       "      <td>382.274994</td>\n",
       "      <td>6.465</td>\n",
       "      <td>7.831253</td>\n",
       "      <td>16.834999</td>\n",
       "      <td>93.196831</td>\n",
       "      <td>241.294998</td>\n",
       "      <td>...</td>\n",
       "      <td>25.786425</td>\n",
       "      <td>48.779999</td>\n",
       "      <td>12.436851</td>\n",
       "      <td>58.910000</td>\n",
       "      <td>45.972179</td>\n",
       "      <td>7.787688</td>\n",
       "      <td>9.654133</td>\n",
       "      <td>7.3175</td>\n",
       "      <td>2.91250</td>\n",
       "      <td>101.163757</td>\n",
       "    </tr>\n",
       "  </tbody>\n",
       "</table>\n",
       "<p>5 rows × 28 columns</p>\n",
       "</div>"
      ],
      "text/plain": [
       "   AXISBANK.NS    BPCL.NS  BRITANNIA.NS    CIPLA.NS  DRREDDY.NS  EICHERMOT.NS  \\\n",
       "0         5.18  33.270832     75.690002  116.587997  377.062500         4.885   \n",
       "1         5.38  30.875000     75.455002  117.220001  407.237488         5.140   \n",
       "2         5.24  29.995832     73.529999  114.804001  392.012512         5.555   \n",
       "3         5.11  31.691666     78.565002  108.468002  415.387512         6.000   \n",
       "4         4.86  31.654165     84.849998   99.804001  382.274994         6.465   \n",
       "\n",
       "    GAIL.NS  HDFCBANK.NS  HINDALCO.NS  HINDUNILVR.NS  ...    SBIN.NS  \\\n",
       "0  8.587504    17.000000    73.833130     230.755005  ...  22.988886   \n",
       "1  8.293754    17.379999    76.633423     228.104996  ...  24.446625   \n",
       "2  7.900003    16.695000    82.761711     219.990005  ...  23.441774   \n",
       "3  8.118754    16.830000    89.238976     228.820007  ...  24.625893   \n",
       "4  7.831253    16.834999    93.196831     241.294998  ...  25.786425   \n",
       "\n",
       "   SIEMENS.NS  SUNPHARMA.NS  TATACONSUM.NS  TATAMOTORS.NS  TATAPOWER.NS  \\\n",
       "0   54.494999     14.214153      56.450001      41.535931      7.406506   \n",
       "1   54.654999     14.023603      55.090000      39.897491      7.420981   \n",
       "2   52.250000     13.531350      52.794998      40.865227      7.565734   \n",
       "3   53.000000     13.518182      54.560001      42.561157      7.802163   \n",
       "4   48.779999     12.436851      58.910000      45.972179      7.787688   \n",
       "\n",
       "   TATASTEEL.NS  TITAN.NS  VEDL.NS    WIPRO.NS  \n",
       "0      8.559305    7.7850  2.90875  102.157501  \n",
       "1      8.466666    7.3700  2.86750  110.330627  \n",
       "2      8.789500    6.9200  2.85000  112.128754  \n",
       "3      9.446396    7.4750  2.98250  109.959381  \n",
       "4      9.654133    7.3175  2.91250  101.163757  \n",
       "\n",
       "[5 rows x 28 columns]"
      ]
     },
     "execution_count": 4,
     "metadata": {},
     "output_type": "execute_result"
    }
   ],
   "source": [
    "stock_close = stock.iloc[:]['Close'].reset_index(drop=True).fillna(very_small_float)\n",
    "stock_close.head()"
   ]
  },
  {
   "cell_type": "code",
   "execution_count": 5,
   "metadata": {
    "tags": []
   },
   "outputs": [
    {
     "name": "stderr",
     "output_type": "stream",
     "text": [
      "2022-09-17 21:20:30.852056: W tensorflow/stream_executor/platform/default/dso_loader.cc:64] Could not load dynamic library 'libcuda.so.1'; dlerror: libcuda.so.1: cannot open shared object file: No such file or directory\n",
      "2022-09-17 21:20:30.852120: W tensorflow/stream_executor/cuda/cuda_driver.cc:269] failed call to cuInit: UNKNOWN ERROR (303)\n",
      "2022-09-17 21:20:30.852156: I tensorflow/stream_executor/cuda/cuda_diagnostics.cc:156] kernel driver does not appear to be running on this host (divyanshu-PC): /proc/driver/nvidia/version does not exist\n"
     ]
    },
    {
     "data": {
      "application/vnd.jupyter.widget-view+json": {
       "model_id": "0aa1fecca78446019b0192d20026edbd",
       "version_major": 2,
       "version_minor": 0
      },
      "text/plain": [
       "0epoch [00:00, ?epoch/s]"
      ]
     },
     "metadata": {},
     "output_type": "display_data"
    },
    {
     "data": {
      "application/vnd.jupyter.widget-view+json": {
       "model_id": "a6c47725829648f08246890d20e6b1e5",
       "version_major": 2,
       "version_minor": 0
      },
      "text/plain": [
       "0batch [00:00, ?batch/s]"
      ]
     },
     "metadata": {},
     "output_type": "display_data"
    },
    {
     "data": {
      "application/vnd.jupyter.widget-view+json": {
       "model_id": "6886d85b4d0a4b60b952296dc0b0bd11",
       "version_major": 2,
       "version_minor": 0
      },
      "text/plain": [
       "0epoch [00:00, ?epoch/s]"
      ]
     },
     "metadata": {},
     "output_type": "display_data"
    },
    {
     "data": {
      "application/vnd.jupyter.widget-view+json": {
       "model_id": "27132140857848d2aa1835779386b217",
       "version_major": 2,
       "version_minor": 0
      },
      "text/plain": [
       "0batch [00:00, ?batch/s]"
      ]
     },
     "metadata": {},
     "output_type": "display_data"
    }
   ],
   "source": [
    "import matplotlib.pyplot as plt\n",
    "rnd = 8\n",
    "tf.random.set_seed(rnd)\n",
    "np.random.seed(rnd)\n",
    "\n",
    "param={}\n",
    "param ={'model_params':\n",
    "    {'model_n':'LSTM',\n",
    "    'epochs':10}}\n",
    "\n",
    "m = Model()\n",
    "alloc = m.get_allocations(stock_close.values, **param['model_params'])\n"
   ]
  },
  {
   "cell_type": "code",
   "execution_count": 6,
   "metadata": {},
   "outputs": [
    {
     "name": "stderr",
     "output_type": "stream",
     "text": [
      "/home/divyanshu/Documents/GitHub/BTP/lib/python3.10/site-packages/riskfolio/PlotFunctions.py:568: FutureWarning: The frame.append method is deprecated and will be removed from pandas in a future version. Use pandas.concat instead.\n",
      "  sizes2 = sizes2.append(item)\n"
     ]
    },
    {
     "data": {
      "image/png": "[encoded data removed]",
      "text/plain": [
       "<Figure size 720x432 with 1 Axes>"
      ]
     },
     "metadata": {},
     "output_type": "display_data"
    }
   ],
   "source": [
    "import riskfolio as rp\n",
    "df = pd.DataFrame(alloc, index=ticker)\n",
    "ax = rp.plot_pie(w=df, title='Sharpe Mean Variance', others=0.05, nrow=25, cmap=\"tab20\",\n",
    "                 height=6, width=10, ax=None)"
   ]
  },
  {
   "cell_type": "code",
   "execution_count": 7,
   "metadata": {},
   "outputs": [
    {
     "name": "stdout",
     "output_type": "stream",
     "text": [
      "portfolio_returns: 5.6928\n",
      "std: 0.0147\n",
      "sharpe: 0.0683\n"
     ]
    }
   ],
   "source": [
    "calc_portfolio_values(alloc, stock_close)"
   ]
  },
  {
   "cell_type": "code",
   "execution_count": 8,
   "metadata": {},
   "outputs": [
    {
     "name": "stdout",
     "output_type": "stream",
     "text": [
      "[1042, 1107, 1172, 1238, 1304, 1365, 1429, 1493, 1554, 1615, 1676, 1740, 1801, 1861, 1923, 1987, 2049, 2111, 2172, 2236, 2295, 2353, 2413, 2477, 2538, 2597, 2660, 2725, 2788, 2850, 2912, 2975, 3034, 3096, 3158, 3220, 3279, 3341, 3403, 3466, 3527, 3589, 3650, 3713, 3771, 3832, 3893, 3957, 4017, 4078, 4140, 4202, 4263, 4325, 4386, 4449, 4511, 4571, 4635, 4696, 4757, 4817, 4877, 4939, 5000, 5063, 5122, 5188, 5251, 5312, 5373, 5436, 5499, 5560, 5622, 5675]\n"
     ]
    }
   ],
   "source": [
    "index = stock.groupby(\n",
    "    [stock.index.year, stock.index.month]).tail(1).index\n",
    "index_2 = stock.index\n",
    "\n",
    "# Quarterly Dates\n",
    "index = [x for x in index if float(x.month) % 3.0 == 0]\n",
    "\n",
    "# Dates where the strategy will be backtested\n",
    "index_ = [index_2.get_loc(x) for x in index if index_2.get_loc(x) > 1000]\n",
    "print(index_)\n"
   ]
  },
  {
   "cell_type": "code",
   "execution_count": 9,
   "metadata": {},
   "outputs": [
    {
     "name": "stdout",
     "output_type": "stream",
     "text": [
      "ret, std, sharp\n"
     ]
    },
    {
     "data": {
      "application/vnd.jupyter.widget-view+json": {
       "model_id": "73c710b798c743e89f46b3c0a4b84bb9",
       "version_major": 2,
       "version_minor": 0
      },
      "text/plain": [
       "  0%|          | 0/75 [00:00<?, ?it/s]"
      ]
     },
     "metadata": {},
     "output_type": "display_data"
    },
    {
     "data": {
      "application/vnd.jupyter.widget-view+json": {
       "model_id": "cc5a08e0cbcb493287ace1e6b068f5f2",
       "version_major": 2,
       "version_minor": 0
      },
      "text/plain": [
       "0epoch [00:00, ?epoch/s]"
      ]
     },
     "metadata": {},
     "output_type": "display_data"
    },
    {
     "data": {
      "application/vnd.jupyter.widget-view+json": {
       "model_id": "475fce7fe9e74039b43050ddc90df4fc",
       "version_major": 2,
       "version_minor": 0
      },
      "text/plain": [
       "0batch [00:00, ?batch/s]"
      ]
     },
     "metadata": {},
     "output_type": "display_data"
    },
    {
     "data": {
      "application/vnd.jupyter.widget-view+json": {
       "model_id": "e3922c3fa4614f59a50ed88d2cfae199",
       "version_major": 2,
       "version_minor": 0
      },
      "text/plain": [
       "0epoch [00:00, ?epoch/s]"
      ]
     },
     "metadata": {},
     "output_type": "display_data"
    },
    {
     "data": {
      "application/vnd.jupyter.widget-view+json": {
       "model_id": "7f593989de8946f498335038e1663bf5",
       "version_major": 2,
       "version_minor": 0
      },
      "text/plain": [
       "0batch [00:00, ?batch/s]"
      ]
     },
     "metadata": {},
     "output_type": "display_data"
    },
    {
     "data": {
      "application/vnd.jupyter.widget-view+json": {
       "model_id": "34feb434f0104d37b32c3c0e90fad820",
       "version_major": 2,
       "version_minor": 0
      },
      "text/plain": [
       "0epoch [00:00, ?epoch/s]"
      ]
     },
     "metadata": {},
     "output_type": "display_data"
    },
    {
     "data": {
      "application/vnd.jupyter.widget-view+json": {
       "model_id": "e902b384ddb148af8e7316501247c91b",
       "version_major": 2,
       "version_minor": 0
      },
      "text/plain": [
       "0batch [00:00, ?batch/s]"
      ]
     },
     "metadata": {},
     "output_type": "display_data"
    },
    {
     "data": {
      "application/vnd.jupyter.widget-view+json": {
       "model_id": "c72ddda37b5b4d2c81e1a71d1fdcd5e7",
       "version_major": 2,
       "version_minor": 0
      },
      "text/plain": [
       "0epoch [00:00, ?epoch/s]"
      ]
     },
     "metadata": {},
     "output_type": "display_data"
    },
    {
     "data": {
      "application/vnd.jupyter.widget-view+json": {
       "model_id": "c070fd714f2346af83285bd289b459a1",
       "version_major": 2,
       "version_minor": 0
      },
      "text/plain": [
       "0batch [00:00, ?batch/s]"
      ]
     },
     "metadata": {},
     "output_type": "display_data"
    },
    {
     "data": {
      "application/vnd.jupyter.widget-view+json": {
       "model_id": "fd19e60fbf66449db6bf3fe7dbea951f",
       "version_major": 2,
       "version_minor": 0
      },
      "text/plain": [
       "0epoch [00:00, ?epoch/s]"
      ]
     },
     "metadata": {},
     "output_type": "display_data"
    },
    {
     "data": {
      "application/vnd.jupyter.widget-view+json": {
       "model_id": "581200befbec4c688c74fe454c32b1af",
       "version_major": 2,
       "version_minor": 0
      },
      "text/plain": [
       "0batch [00:00, ?batch/s]"
      ]
     },
     "metadata": {},
     "output_type": "display_data"
    },
    {
     "data": {
      "application/vnd.jupyter.widget-view+json": {
       "model_id": "e65425d4057d4862894a455942d28eb4",
       "version_major": 2,
       "version_minor": 0
      },
      "text/plain": [
       "0epoch [00:00, ?epoch/s]"
      ]
     },
     "metadata": {},
     "output_type": "display_data"
    },
    {
     "data": {
      "application/vnd.jupyter.widget-view+json": {
       "model_id": "71a2b57f4ba84e48bfe43430ea344179",
       "version_major": 2,
       "version_minor": 0
      },
      "text/plain": [
       "0batch [00:00, ?batch/s]"
      ]
     },
     "metadata": {},
     "output_type": "display_data"
    },
    {
     "data": {
      "application/vnd.jupyter.widget-view+json": {
       "model_id": "625b4f2791fd4dc98f3b797b30994448",
       "version_major": 2,
       "version_minor": 0
      },
      "text/plain": [
       "0epoch [00:00, ?epoch/s]"
      ]
     },
     "metadata": {},
     "output_type": "display_data"
    },
    {
     "data": {
      "application/vnd.jupyter.widget-view+json": {
       "model_id": "70afc4476c69476ab829931e7c69f66c",
       "version_major": 2,
       "version_minor": 0
      },
      "text/plain": [
       "0batch [00:00, ?batch/s]"
      ]
     },
     "metadata": {},
     "output_type": "display_data"
    },
    {
     "ename": "KeyboardInterrupt",
     "evalue": "",
     "output_type": "error",
     "traceback": [
      "\u001b[0;31m---------------------------------------------------------------------------\u001b[0m",
      "\u001b[0;31mKeyboardInterrupt\u001b[0m                         Traceback (most recent call last)",
      "\u001b[1;32m/home/divyanshu/Documents/GitHub/BTP/CodeFromVideo/test_model_lstm.ipynb Cell 10\u001b[0m in \u001b[0;36m<cell line: 23>\u001b[0;34m()\u001b[0m\n\u001b[1;32m     <a href='vscode-notebook-cell:/home/divyanshu/Documents/GitHub/BTP/CodeFromVideo/test_model_lstm.ipynb#X12sZmlsZQ%3D%3D?line=18'>19</a>\u001b[0m         \u001b[39m#print(r_list[-1])\u001b[39;00m\n\u001b[1;32m     <a href='vscode-notebook-cell:/home/divyanshu/Documents/GitHub/BTP/CodeFromVideo/test_model_lstm.ipynb#X12sZmlsZQ%3D%3D?line=19'>20</a>\u001b[0m         \u001b[39m#clear_output(wait=True)\u001b[39;00m\n\u001b[1;32m     <a href='vscode-notebook-cell:/home/divyanshu/Documents/GitHub/BTP/CodeFromVideo/test_model_lstm.ipynb#X12sZmlsZQ%3D%3D?line=20'>21</a>\u001b[0m     \u001b[39mreturn\u001b[39;00m r_list\n\u001b[0;32m---> <a href='vscode-notebook-cell:/home/divyanshu/Documents/GitHub/BTP/CodeFromVideo/test_model_lstm.ipynb#X12sZmlsZQ%3D%3D?line=22'>23</a>\u001b[0m rl \u001b[39m=\u001b[39m getReturnFromAlloc(n)\n\u001b[1;32m     <a href='vscode-notebook-cell:/home/divyanshu/Documents/GitHub/BTP/CodeFromVideo/test_model_lstm.ipynb#X12sZmlsZQ%3D%3D?line=23'>24</a>\u001b[0m sharp \u001b[39m=\u001b[39m []\n\u001b[1;32m     <a href='vscode-notebook-cell:/home/divyanshu/Documents/GitHub/BTP/CodeFromVideo/test_model_lstm.ipynb#X12sZmlsZQ%3D%3D?line=24'>25</a>\u001b[0m \u001b[39mfor\u001b[39;00m r, s, sp \u001b[39min\u001b[39;00m rl:\n",
      "\u001b[1;32m/home/divyanshu/Documents/GitHub/BTP/CodeFromVideo/test_model_lstm.ipynb Cell 10\u001b[0m in \u001b[0;36mgetReturnFromAlloc\u001b[0;34m(n)\u001b[0m\n\u001b[1;32m     <a href='vscode-notebook-cell:/home/divyanshu/Documents/GitHub/BTP/CodeFromVideo/test_model_lstm.ipynb#X12sZmlsZQ%3D%3D?line=14'>15</a>\u001b[0m stock_close \u001b[39m=\u001b[39m stock\u001b[39m.\u001b[39miloc[i:i\u001b[39m+\u001b[39m\u001b[39m125\u001b[39m][\u001b[39m'\u001b[39m\u001b[39mClose\u001b[39m\u001b[39m'\u001b[39m]\u001b[39m.\u001b[39mreset_index(drop\u001b[39m=\u001b[39m\u001b[39mTrue\u001b[39;00m)\u001b[39m.\u001b[39mfillna(very_small_float)\n\u001b[1;32m     <a href='vscode-notebook-cell:/home/divyanshu/Documents/GitHub/BTP/CodeFromVideo/test_model_lstm.ipynb#X12sZmlsZQ%3D%3D?line=15'>16</a>\u001b[0m m \u001b[39m=\u001b[39m Model()\n\u001b[0;32m---> <a href='vscode-notebook-cell:/home/divyanshu/Documents/GitHub/BTP/CodeFromVideo/test_model_lstm.ipynb#X12sZmlsZQ%3D%3D?line=16'>17</a>\u001b[0m alloc \u001b[39m=\u001b[39m m\u001b[39m.\u001b[39;49mget_allocations(stock_close\u001b[39m.\u001b[39;49mvalues, \u001b[39m*\u001b[39;49m\u001b[39m*\u001b[39;49mparam[\u001b[39m'\u001b[39;49m\u001b[39mmodel_params\u001b[39;49m\u001b[39m'\u001b[39;49m])\n\u001b[1;32m     <a href='vscode-notebook-cell:/home/divyanshu/Documents/GitHub/BTP/CodeFromVideo/test_model_lstm.ipynb#X12sZmlsZQ%3D%3D?line=17'>18</a>\u001b[0m r_list\u001b[39m.\u001b[39mappend((get_portfolio_values(alloc, stock_close)))\n\u001b[1;32m     <a href='vscode-notebook-cell:/home/divyanshu/Documents/GitHub/BTP/CodeFromVideo/test_model_lstm.ipynb#X12sZmlsZQ%3D%3D?line=18'>19</a>\u001b[0m \u001b[39m#print(r_list[-1])\u001b[39;00m\n\u001b[1;32m     <a href='vscode-notebook-cell:/home/divyanshu/Documents/GitHub/BTP/CodeFromVideo/test_model_lstm.ipynb#X12sZmlsZQ%3D%3D?line=19'>20</a>\u001b[0m \u001b[39m#clear_output(wait=True)\u001b[39;00m\n",
      "File \u001b[0;32m~/Documents/GitHub/BTP/CodeFromVideo/risk_model.py:84\u001b[0m, in \u001b[0;36mModel.get_allocations\u001b[0;34m(self, data, **params)\u001b[0m\n\u001b[1;32m     74\u001b[0m fit_predict_data \u001b[39m=\u001b[39m data_w_ret[np\u001b[39m.\u001b[39mnewaxis, :]\n\u001b[1;32m     80\u001b[0m callback_early_stop \u001b[39m=\u001b[39m tf\u001b[39m.\u001b[39mkeras\u001b[39m.\u001b[39mcallbacks\u001b[39m.\u001b[39mEarlyStopping(\n\u001b[1;32m     81\u001b[0m monitor\u001b[39m=\u001b[39m\u001b[39m'\u001b[39m\u001b[39mloss\u001b[39m\u001b[39m'\u001b[39m, patience\u001b[39m=\u001b[39m\u001b[39m20\u001b[39m)\n\u001b[0;32m---> 84\u001b[0m \u001b[39mself\u001b[39;49m\u001b[39m.\u001b[39;49mmodel\u001b[39m.\u001b[39;49mfit(fit_predict_data, np\u001b[39m.\u001b[39;49mzeros((\u001b[39m1\u001b[39;49m, data\u001b[39m.\u001b[39;49mshape[\u001b[39m1\u001b[39;49m])), epochs\u001b[39m=\u001b[39;49mparams[\u001b[39m'\u001b[39;49m\u001b[39mepochs\u001b[39;49m\u001b[39m'\u001b[39;49m],\n\u001b[1;32m     85\u001b[0m                shuffle\u001b[39m=\u001b[39;49m\u001b[39mFalse\u001b[39;49;00m, callbacks\u001b[39m=\u001b[39;49m[callback_early_stop, TqdmCallback()], verbose\u001b[39m=\u001b[39;49m\u001b[39m0\u001b[39;49m)\n\u001b[1;32m     87\u001b[0m \u001b[39mreturn\u001b[39;00m \u001b[39mself\u001b[39m\u001b[39m.\u001b[39mmodel\u001b[39m.\u001b[39mpredict(fit_predict_data, callbacks\u001b[39m=\u001b[39m[TqdmCallback()], verbose\u001b[39m=\u001b[39m\u001b[39m0\u001b[39m)[\u001b[39m0\u001b[39m]\n",
      "File \u001b[0;32m~/Documents/GitHub/BTP/lib/python3.10/site-packages/keras/utils/traceback_utils.py:64\u001b[0m, in \u001b[0;36mfilter_traceback.<locals>.error_handler\u001b[0;34m(*args, **kwargs)\u001b[0m\n\u001b[1;32m     62\u001b[0m filtered_tb \u001b[39m=\u001b[39m \u001b[39mNone\u001b[39;00m\n\u001b[1;32m     63\u001b[0m \u001b[39mtry\u001b[39;00m:\n\u001b[0;32m---> 64\u001b[0m   \u001b[39mreturn\u001b[39;00m fn(\u001b[39m*\u001b[39;49margs, \u001b[39m*\u001b[39;49m\u001b[39m*\u001b[39;49mkwargs)\n\u001b[1;32m     65\u001b[0m \u001b[39mexcept\u001b[39;00m \u001b[39mException\u001b[39;00m \u001b[39mas\u001b[39;00m e:  \u001b[39m# pylint: disable=broad-except\u001b[39;00m\n\u001b[1;32m     66\u001b[0m   filtered_tb \u001b[39m=\u001b[39m _process_traceback_frames(e\u001b[39m.\u001b[39m__traceback__)\n",
      "File \u001b[0;32m~/Documents/GitHub/BTP/lib/python3.10/site-packages/keras/engine/training.py:1409\u001b[0m, in \u001b[0;36mModel.fit\u001b[0;34m(self, x, y, batch_size, epochs, verbose, callbacks, validation_split, validation_data, shuffle, class_weight, sample_weight, initial_epoch, steps_per_epoch, validation_steps, validation_batch_size, validation_freq, max_queue_size, workers, use_multiprocessing)\u001b[0m\n\u001b[1;32m   1402\u001b[0m \u001b[39mwith\u001b[39;00m tf\u001b[39m.\u001b[39mprofiler\u001b[39m.\u001b[39mexperimental\u001b[39m.\u001b[39mTrace(\n\u001b[1;32m   1403\u001b[0m     \u001b[39m'\u001b[39m\u001b[39mtrain\u001b[39m\u001b[39m'\u001b[39m,\n\u001b[1;32m   1404\u001b[0m     epoch_num\u001b[39m=\u001b[39mepoch,\n\u001b[1;32m   1405\u001b[0m     step_num\u001b[39m=\u001b[39mstep,\n\u001b[1;32m   1406\u001b[0m     batch_size\u001b[39m=\u001b[39mbatch_size,\n\u001b[1;32m   1407\u001b[0m     _r\u001b[39m=\u001b[39m\u001b[39m1\u001b[39m):\n\u001b[1;32m   1408\u001b[0m   callbacks\u001b[39m.\u001b[39mon_train_batch_begin(step)\n\u001b[0;32m-> 1409\u001b[0m   tmp_logs \u001b[39m=\u001b[39m \u001b[39mself\u001b[39;49m\u001b[39m.\u001b[39;49mtrain_function(iterator)\n\u001b[1;32m   1410\u001b[0m   \u001b[39mif\u001b[39;00m data_handler\u001b[39m.\u001b[39mshould_sync:\n\u001b[1;32m   1411\u001b[0m     context\u001b[39m.\u001b[39masync_wait()\n",
      "File \u001b[0;32m~/Documents/GitHub/BTP/lib/python3.10/site-packages/tensorflow/python/util/traceback_utils.py:150\u001b[0m, in \u001b[0;36mfilter_traceback.<locals>.error_handler\u001b[0;34m(*args, **kwargs)\u001b[0m\n\u001b[1;32m    148\u001b[0m filtered_tb \u001b[39m=\u001b[39m \u001b[39mNone\u001b[39;00m\n\u001b[1;32m    149\u001b[0m \u001b[39mtry\u001b[39;00m:\n\u001b[0;32m--> 150\u001b[0m   \u001b[39mreturn\u001b[39;00m fn(\u001b[39m*\u001b[39;49margs, \u001b[39m*\u001b[39;49m\u001b[39m*\u001b[39;49mkwargs)\n\u001b[1;32m    151\u001b[0m \u001b[39mexcept\u001b[39;00m \u001b[39mException\u001b[39;00m \u001b[39mas\u001b[39;00m e:\n\u001b[1;32m    152\u001b[0m   filtered_tb \u001b[39m=\u001b[39m _process_traceback_frames(e\u001b[39m.\u001b[39m__traceback__)\n",
      "File \u001b[0;32m~/Documents/GitHub/BTP/lib/python3.10/site-packages/tensorflow/python/eager/def_function.py:915\u001b[0m, in \u001b[0;36mFunction.__call__\u001b[0;34m(self, *args, **kwds)\u001b[0m\n\u001b[1;32m    912\u001b[0m compiler \u001b[39m=\u001b[39m \u001b[39m\"\u001b[39m\u001b[39mxla\u001b[39m\u001b[39m\"\u001b[39m \u001b[39mif\u001b[39;00m \u001b[39mself\u001b[39m\u001b[39m.\u001b[39m_jit_compile \u001b[39melse\u001b[39;00m \u001b[39m\"\u001b[39m\u001b[39mnonXla\u001b[39m\u001b[39m\"\u001b[39m\n\u001b[1;32m    914\u001b[0m \u001b[39mwith\u001b[39;00m OptionalXlaContext(\u001b[39mself\u001b[39m\u001b[39m.\u001b[39m_jit_compile):\n\u001b[0;32m--> 915\u001b[0m   result \u001b[39m=\u001b[39m \u001b[39mself\u001b[39;49m\u001b[39m.\u001b[39;49m_call(\u001b[39m*\u001b[39;49margs, \u001b[39m*\u001b[39;49m\u001b[39m*\u001b[39;49mkwds)\n\u001b[1;32m    917\u001b[0m new_tracing_count \u001b[39m=\u001b[39m \u001b[39mself\u001b[39m\u001b[39m.\u001b[39mexperimental_get_tracing_count()\n\u001b[1;32m    918\u001b[0m without_tracing \u001b[39m=\u001b[39m (tracing_count \u001b[39m==\u001b[39m new_tracing_count)\n",
      "File \u001b[0;32m~/Documents/GitHub/BTP/lib/python3.10/site-packages/tensorflow/python/eager/def_function.py:947\u001b[0m, in \u001b[0;36mFunction._call\u001b[0;34m(self, *args, **kwds)\u001b[0m\n\u001b[1;32m    944\u001b[0m   \u001b[39mself\u001b[39m\u001b[39m.\u001b[39m_lock\u001b[39m.\u001b[39mrelease()\n\u001b[1;32m    945\u001b[0m   \u001b[39m# In this case we have created variables on the first call, so we run the\u001b[39;00m\n\u001b[1;32m    946\u001b[0m   \u001b[39m# defunned version which is guaranteed to never create variables.\u001b[39;00m\n\u001b[0;32m--> 947\u001b[0m   \u001b[39mreturn\u001b[39;00m \u001b[39mself\u001b[39;49m\u001b[39m.\u001b[39;49m_stateless_fn(\u001b[39m*\u001b[39;49margs, \u001b[39m*\u001b[39;49m\u001b[39m*\u001b[39;49mkwds)  \u001b[39m# pylint: disable=not-callable\u001b[39;00m\n\u001b[1;32m    948\u001b[0m \u001b[39melif\u001b[39;00m \u001b[39mself\u001b[39m\u001b[39m.\u001b[39m_stateful_fn \u001b[39mis\u001b[39;00m \u001b[39mnot\u001b[39;00m \u001b[39mNone\u001b[39;00m:\n\u001b[1;32m    949\u001b[0m   \u001b[39m# Release the lock early so that multiple threads can perform the call\u001b[39;00m\n\u001b[1;32m    950\u001b[0m   \u001b[39m# in parallel.\u001b[39;00m\n\u001b[1;32m    951\u001b[0m   \u001b[39mself\u001b[39m\u001b[39m.\u001b[39m_lock\u001b[39m.\u001b[39mrelease()\n",
      "File \u001b[0;32m~/Documents/GitHub/BTP/lib/python3.10/site-packages/tensorflow/python/eager/function.py:2453\u001b[0m, in \u001b[0;36mFunction.__call__\u001b[0;34m(self, *args, **kwargs)\u001b[0m\n\u001b[1;32m   2450\u001b[0m \u001b[39mwith\u001b[39;00m \u001b[39mself\u001b[39m\u001b[39m.\u001b[39m_lock:\n\u001b[1;32m   2451\u001b[0m   (graph_function,\n\u001b[1;32m   2452\u001b[0m    filtered_flat_args) \u001b[39m=\u001b[39m \u001b[39mself\u001b[39m\u001b[39m.\u001b[39m_maybe_define_function(args, kwargs)\n\u001b[0;32m-> 2453\u001b[0m \u001b[39mreturn\u001b[39;00m graph_function\u001b[39m.\u001b[39;49m_call_flat(\n\u001b[1;32m   2454\u001b[0m     filtered_flat_args, captured_inputs\u001b[39m=\u001b[39;49mgraph_function\u001b[39m.\u001b[39;49mcaptured_inputs)\n",
      "File \u001b[0;32m~/Documents/GitHub/BTP/lib/python3.10/site-packages/tensorflow/python/eager/function.py:1860\u001b[0m, in \u001b[0;36mConcreteFunction._call_flat\u001b[0;34m(self, args, captured_inputs, cancellation_manager)\u001b[0m\n\u001b[1;32m   1856\u001b[0m possible_gradient_type \u001b[39m=\u001b[39m gradients_util\u001b[39m.\u001b[39mPossibleTapeGradientTypes(args)\n\u001b[1;32m   1857\u001b[0m \u001b[39mif\u001b[39;00m (possible_gradient_type \u001b[39m==\u001b[39m gradients_util\u001b[39m.\u001b[39mPOSSIBLE_GRADIENT_TYPES_NONE\n\u001b[1;32m   1858\u001b[0m     \u001b[39mand\u001b[39;00m executing_eagerly):\n\u001b[1;32m   1859\u001b[0m   \u001b[39m# No tape is watching; skip to running the function.\u001b[39;00m\n\u001b[0;32m-> 1860\u001b[0m   \u001b[39mreturn\u001b[39;00m \u001b[39mself\u001b[39m\u001b[39m.\u001b[39m_build_call_outputs(\u001b[39mself\u001b[39;49m\u001b[39m.\u001b[39;49m_inference_function\u001b[39m.\u001b[39;49mcall(\n\u001b[1;32m   1861\u001b[0m       ctx, args, cancellation_manager\u001b[39m=\u001b[39;49mcancellation_manager))\n\u001b[1;32m   1862\u001b[0m forward_backward \u001b[39m=\u001b[39m \u001b[39mself\u001b[39m\u001b[39m.\u001b[39m_select_forward_and_backward_functions(\n\u001b[1;32m   1863\u001b[0m     args,\n\u001b[1;32m   1864\u001b[0m     possible_gradient_type,\n\u001b[1;32m   1865\u001b[0m     executing_eagerly)\n\u001b[1;32m   1866\u001b[0m forward_function, args_with_tangents \u001b[39m=\u001b[39m forward_backward\u001b[39m.\u001b[39mforward()\n",
      "File \u001b[0;32m~/Documents/GitHub/BTP/lib/python3.10/site-packages/tensorflow/python/eager/function.py:497\u001b[0m, in \u001b[0;36m_EagerDefinedFunction.call\u001b[0;34m(self, ctx, args, cancellation_manager)\u001b[0m\n\u001b[1;32m    495\u001b[0m \u001b[39mwith\u001b[39;00m _InterpolateFunctionError(\u001b[39mself\u001b[39m):\n\u001b[1;32m    496\u001b[0m   \u001b[39mif\u001b[39;00m cancellation_manager \u001b[39mis\u001b[39;00m \u001b[39mNone\u001b[39;00m:\n\u001b[0;32m--> 497\u001b[0m     outputs \u001b[39m=\u001b[39m execute\u001b[39m.\u001b[39;49mexecute(\n\u001b[1;32m    498\u001b[0m         \u001b[39mstr\u001b[39;49m(\u001b[39mself\u001b[39;49m\u001b[39m.\u001b[39;49msignature\u001b[39m.\u001b[39;49mname),\n\u001b[1;32m    499\u001b[0m         num_outputs\u001b[39m=\u001b[39;49m\u001b[39mself\u001b[39;49m\u001b[39m.\u001b[39;49m_num_outputs,\n\u001b[1;32m    500\u001b[0m         inputs\u001b[39m=\u001b[39;49margs,\n\u001b[1;32m    501\u001b[0m         attrs\u001b[39m=\u001b[39;49mattrs,\n\u001b[1;32m    502\u001b[0m         ctx\u001b[39m=\u001b[39;49mctx)\n\u001b[1;32m    503\u001b[0m   \u001b[39melse\u001b[39;00m:\n\u001b[1;32m    504\u001b[0m     outputs \u001b[39m=\u001b[39m execute\u001b[39m.\u001b[39mexecute_with_cancellation(\n\u001b[1;32m    505\u001b[0m         \u001b[39mstr\u001b[39m(\u001b[39mself\u001b[39m\u001b[39m.\u001b[39msignature\u001b[39m.\u001b[39mname),\n\u001b[1;32m    506\u001b[0m         num_outputs\u001b[39m=\u001b[39m\u001b[39mself\u001b[39m\u001b[39m.\u001b[39m_num_outputs,\n\u001b[0;32m   (...)\u001b[0m\n\u001b[1;32m    509\u001b[0m         ctx\u001b[39m=\u001b[39mctx,\n\u001b[1;32m    510\u001b[0m         cancellation_manager\u001b[39m=\u001b[39mcancellation_manager)\n",
      "File \u001b[0;32m~/Documents/GitHub/BTP/lib/python3.10/site-packages/tensorflow/python/eager/execute.py:54\u001b[0m, in \u001b[0;36mquick_execute\u001b[0;34m(op_name, num_outputs, inputs, attrs, ctx, name)\u001b[0m\n\u001b[1;32m     52\u001b[0m \u001b[39mtry\u001b[39;00m:\n\u001b[1;32m     53\u001b[0m   ctx\u001b[39m.\u001b[39mensure_initialized()\n\u001b[0;32m---> 54\u001b[0m   tensors \u001b[39m=\u001b[39m pywrap_tfe\u001b[39m.\u001b[39;49mTFE_Py_Execute(ctx\u001b[39m.\u001b[39;49m_handle, device_name, op_name,\n\u001b[1;32m     55\u001b[0m                                       inputs, attrs, num_outputs)\n\u001b[1;32m     56\u001b[0m \u001b[39mexcept\u001b[39;00m core\u001b[39m.\u001b[39m_NotOkStatusException \u001b[39mas\u001b[39;00m e:\n\u001b[1;32m     57\u001b[0m   \u001b[39mif\u001b[39;00m name \u001b[39mis\u001b[39;00m \u001b[39mnot\u001b[39;00m \u001b[39mNone\u001b[39;00m:\n",
      "\u001b[0;31mKeyboardInterrupt\u001b[0m: "
     ]
    }
   ],
   "source": [
    "\n",
    "from IPython.display import clear_output\n",
    "\n",
    "\n",
    "from tqdm.notebook import trange, tqdm\n",
    "n = index_[:-1]\n",
    "\n",
    "def getReturnFromAlloc(n):\n",
    "    r_list = []\n",
    "    param={}\n",
    "    param ={'model_params':\n",
    "        {'model_n':'LSTM',\n",
    "        'epochs':100}}\n",
    "    print('ret, std, sharp')\n",
    "    for i in tqdm(n):\n",
    "        stock_close = stock.iloc[i:i+125]['Close'].reset_index(drop=True).fillna(very_small_float)\n",
    "        m = Model()\n",
    "        alloc = m.get_allocations(stock_close.values, **param['model_params'])\n",
    "        r_list.append((get_portfolio_values(alloc, stock_close)))\n",
    "        #print(r_list[-1])\n",
    "        #clear_output(wait=True)\n",
    "    return r_list\n",
    "\n",
    "rl = getReturnFromAlloc(n)\n",
    "sharp = []\n",
    "for r, s, sp in rl:\n",
    "    print(\"{:.4f}  {:.4f}  {:.4f}\".format(r,s,sp))\n",
    "    sharp.append(sp)\n"
   ]
  },
  {
   "cell_type": "code",
   "execution_count": null,
   "metadata": {},
   "outputs": [
    {
     "ename": "",
     "evalue": "",
     "output_type": "error",
     "traceback": [
      "\u001b[1;31mThe kernel failed to start due to the missing module 'prompt_toolkit.formatted_text'. Consider installing this module.\n",
      "\u001b[1;31mClick <a href='https://aka.ms/kernelFailuresMissingModule'>here</a> for more info."
     ]
    }
   ],
   "source": [
    "config_cerebro = {\n",
    "    'assets': ticker,\n",
    "    #'assets':['SPY', 'TLT', 'GLD', 'BA', 'SLV', 'WYNN','MO', 'AEE', 'AIG', 'WY'],\n",
    "    'benchmark': benchmark_index,\n",
    "    'startd': history_range['start'],\n",
    "    'endd': history_range['end'],\n",
    "    'set_coc' : True,\n",
    "    'set_coo' : False,\n",
    "    'cash': 1000000.0,\n",
    "    'stocks_df':None,\n",
    "    'benchmark_df':None\n",
    "}\n",
    "\n",
    "params = {\n",
    "    'DataCounter': 125,\n",
    "    'RebalanceDay': 22,\n",
    "    'reserveCash': 1000.0,\n",
    "    'printlog': 0,\n",
    "    'benchmarkUse': True,\n",
    "    'resetModel':False, \n",
    "    'resetModelStep':4,\n",
    "    'model':Model(),\n",
    "    'model_params':{\n",
    "        'model_n':'LSTM',\n",
    "        'collectData':False,\n",
    "        'epochs':100}\n",
    "}\n",
    "d_res = {}\n",
    "d_stat = {}\n",
    "\n",
    "config_cerebro['stocks_df'] = pdr.DataReader(config_cerebro['assets'], \n",
    "                start=config_cerebro['startd'],\n",
    "                end=config_cerebro['endd'],\n",
    "                data_source='yahoo')\n",
    "config_cerebro['benchmark_df'] = pdr.DataReader(config_cerebro['benchmark'], \n",
    "                start=config_cerebro['startd'],\n",
    "                end=config_cerebro['endd'],\n",
    "                data_source='yahoo')"
   ]
  },
  {
   "cell_type": "code",
   "execution_count": null,
   "metadata": {},
   "outputs": [
    {
     "ename": "",
     "evalue": "",
     "output_type": "error",
     "traceback": [
      "\u001b[1;31mThe kernel failed to start due to the missing module 'prompt_toolkit.formatted_text'. Consider installing this module.\n",
      "\u001b[1;31mClick <a href='https://aka.ms/kernelFailuresMissingModule'>here</a> for more info."
     ]
    }
   ],
   "source": [
    "!pip install git+https://github.com/kaomoneus/keras-tqdm.git --upgrade --no-deps\n"
   ]
  },
  {
   "cell_type": "code",
   "execution_count": null,
   "metadata": {},
   "outputs": [
    {
     "ename": "",
     "evalue": "",
     "output_type": "error",
     "traceback": [
      "\u001b[1;31mThe kernel failed to start due to the missing module 'prompt_toolkit.formatted_text'. Consider installing this module.\n",
      "\u001b[1;31mClick <a href='https://aka.ms/kernelFailuresMissingModule'>here</a> for more info."
     ]
    }
   ],
   "source": [
    "tf.keras.utils.plot_model(m.getModel(), show_shapes=True)\n"
   ]
  },
  {
   "cell_type": "code",
   "execution_count": null,
   "metadata": {
    "tags": []
   },
   "outputs": [
    {
     "ename": "",
     "evalue": "",
     "output_type": "error",
     "traceback": [
      "\u001b[1;31mThe kernel failed to start due to the missing module 'prompt_toolkit.formatted_text'. Consider installing this module.\n",
      "\u001b[1;31mClick <a href='https://aka.ms/kernelFailuresMissingModule'>here</a> for more info."
     ]
    }
   ],
   "source": [
    "import matplotlib.pyplot as plt\n",
    "params['model'] = Model()\n",
    "params['resetModel'] = False\n",
    "%matplotlib inline\n",
    "\n",
    "plt.rcParams[\"figure.figsize\"] = (10, 6)  # (w, h)\n",
    "plt.plot()\n",
    "d_stat[get_name(params)], d_res[get_name(params)], ah = backtest(config_cerebro, DynRebalance, m_name=get_name(params), plot=False, **params)\n",
    "display(d_stat[get_name(params)])\n",
    "d_res[get_name(params)].plot()"
   ]
  }
 ],
 "metadata": {
  "kernelspec": {
   "display_name": "Python 3.10.6 ('BTP': venv)",
   "language": "python",
   "name": "python3"
  },
  "language_info": {
   "codemirror_mode": {
    "name": "ipython",
    "version": 3
   },
   "file_extension": ".py",
   "mimetype": "text/x-python",
   "name": "python",
   "nbconvert_exporter": "python",
   "pygments_lexer": "ipython3",
   "version": "3.10.6"
  },
  "vscode": {
   "interpreter": {
    "hash": "b1a27a5a447105c13e77292595ce5ca384a08e170441442e9efbbb2d2aa7a74f"
   }
  }
 },
 "nbformat": 4,
 "nbformat_minor": 2
}
