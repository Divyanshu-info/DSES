{
 "cells": [
  {
   "cell_type": "code",
   "execution_count": 44,
   "metadata": {},
   "outputs": [
    {
     "name": "stdout",
     "output_type": "stream",
     "text": [
      "[*********************100%***********************]  28 of 28 completed\n"
     ]
    }
   ],
   "source": [
    "import numpy as np\n",
    "import pandas as pd\n",
    "import yfinance as yf\n",
    "import warnings\n",
    "\n",
    "warnings.filterwarnings(\"ignore\")\n",
    "pd.options.display.float_format = '{:.4%}'.format\n",
    "\n",
    "# Date range\n",
    "start = '2000-01-01'\n",
    "end = '2020-12-31'\n",
    "\n",
    "# Tickers of assets\n",
    "assets = \"\"\"AXISBANK.NS\tBPCL.NS\tBRITANNIA.NS\tCIPLA.NS\tDRREDDY.NS\tEICHERMOT.NS\tGAIL.NS\tHDFCBANK.NS\tHINDALCO.NS\tHINDUNILVR.NS\tINFY.NS\tIOC.NS\tITC.NS\tM&M.NS\tMARICO.NS\tONGC.NS\tRELIANCE.NS\tSAIL.NS\tSBIN.NS\tSIEMENS.NS\tSUNPHARMA.NS\tTATACONSUM.NS\tTATAMOTORS.NS\tTATAPOWER.NS\tTATASTEEL.NS\tTITAN.NS\tVEDL.NS\tWIPRO.NS\"\"\".split(\n",
    "    \"\\t\")\n",
    "assets.sort()\n",
    "\n",
    "# Downloading data\n",
    "data = yf.download(assets, start = start, end = end)\n",
    "data = data.loc[:,('Adj Close', slice(None))]\n",
    "data.columns = assets"
   ]
  },
  {
   "cell_type": "code",
   "execution_count": 45,
   "metadata": {},
   "outputs": [
    {
     "data": {
      "text/html": [
       "<div>\n",
       "<style scoped>\n",
       "    .dataframe tbody tr th:only-of-type {\n",
       "        vertical-align: middle;\n",
       "    }\n",
       "\n",
       "    .dataframe tbody tr th {\n",
       "        vertical-align: top;\n",
       "    }\n",
       "\n",
       "    .dataframe thead th {\n",
       "        text-align: right;\n",
       "    }\n",
       "</style>\n",
       "<table border=\"1\" class=\"dataframe\">\n",
       "  <thead>\n",
       "    <tr style=\"text-align: right;\">\n",
       "      <th></th>\n",
       "      <th>AXISBANK.NS</th>\n",
       "      <th>BPCL.NS</th>\n",
       "      <th>BRITANNIA.NS</th>\n",
       "      <th>CIPLA.NS</th>\n",
       "      <th>DRREDDY.NS</th>\n",
       "      <th>EICHERMOT.NS</th>\n",
       "      <th>GAIL.NS</th>\n",
       "      <th>HDFCBANK.NS</th>\n",
       "      <th>HINDALCO.NS</th>\n",
       "      <th>HINDUNILVR.NS</th>\n",
       "      <th>...</th>\n",
       "      <th>SBIN.NS</th>\n",
       "      <th>SIEMENS.NS</th>\n",
       "      <th>SUNPHARMA.NS</th>\n",
       "      <th>TATACONSUM.NS</th>\n",
       "      <th>TATAMOTORS.NS</th>\n",
       "      <th>TATAPOWER.NS</th>\n",
       "      <th>TATASTEEL.NS</th>\n",
       "      <th>TITAN.NS</th>\n",
       "      <th>VEDL.NS</th>\n",
       "      <th>WIPRO.NS</th>\n",
       "    </tr>\n",
       "    <tr>\n",
       "      <th>Date</th>\n",
       "      <th></th>\n",
       "      <th></th>\n",
       "      <th></th>\n",
       "      <th></th>\n",
       "      <th></th>\n",
       "      <th></th>\n",
       "      <th></th>\n",
       "      <th></th>\n",
       "      <th></th>\n",
       "      <th></th>\n",
       "      <th></th>\n",
       "      <th></th>\n",
       "      <th></th>\n",
       "      <th></th>\n",
       "      <th></th>\n",
       "      <th></th>\n",
       "      <th></th>\n",
       "      <th></th>\n",
       "      <th></th>\n",
       "      <th></th>\n",
       "      <th></th>\n",
       "    </tr>\n",
       "  </thead>\n",
       "  <tbody>\n",
       "    <tr>\n",
       "      <th>2000-01-04</th>\n",
       "      <td>3.8610%</td>\n",
       "      <td>-7.2010%</td>\n",
       "      <td>-0.3105%</td>\n",
       "      <td>0.5421%</td>\n",
       "      <td>8.0026%</td>\n",
       "      <td>5.2201%</td>\n",
       "      <td>-3.4207%</td>\n",
       "      <td>2.2353%</td>\n",
       "      <td>3.7928%</td>\n",
       "      <td>-1.1484%</td>\n",
       "      <td>...</td>\n",
       "      <td>6.3411%</td>\n",
       "      <td>0.2936%</td>\n",
       "      <td>-1.3405%</td>\n",
       "      <td>-2.4092%</td>\n",
       "      <td>-3.9446%</td>\n",
       "      <td>0.1955%</td>\n",
       "      <td>-1.0823%</td>\n",
       "      <td>-5.3308%</td>\n",
       "      <td>-1.4181%</td>\n",
       "      <td>8.0005%</td>\n",
       "    </tr>\n",
       "    <tr>\n",
       "      <th>2000-01-05</th>\n",
       "      <td>-2.6022%</td>\n",
       "      <td>-2.8475%</td>\n",
       "      <td>-2.5512%</td>\n",
       "      <td>-2.0611%</td>\n",
       "      <td>-3.7386%</td>\n",
       "      <td>8.0739%</td>\n",
       "      <td>-4.7476%</td>\n",
       "      <td>-3.9413%</td>\n",
       "      <td>7.9968%</td>\n",
       "      <td>-3.5576%</td>\n",
       "      <td>...</td>\n",
       "      <td>-4.1104%</td>\n",
       "      <td>-4.4003%</td>\n",
       "      <td>-3.5102%</td>\n",
       "      <td>-4.1659%</td>\n",
       "      <td>2.4256%</td>\n",
       "      <td>1.9506%</td>\n",
       "      <td>3.8130%</td>\n",
       "      <td>-6.1058%</td>\n",
       "      <td>-0.6103%</td>\n",
       "      <td>1.6298%</td>\n",
       "    </tr>\n",
       "    <tr>\n",
       "      <th>2000-01-06</th>\n",
       "      <td>-2.4809%</td>\n",
       "      <td>5.6536%</td>\n",
       "      <td>6.8476%</td>\n",
       "      <td>-5.5190%</td>\n",
       "      <td>5.9628%</td>\n",
       "      <td>8.0108%</td>\n",
       "      <td>2.7690%</td>\n",
       "      <td>0.8086%</td>\n",
       "      <td>7.8264%</td>\n",
       "      <td>4.0138%</td>\n",
       "      <td>...</td>\n",
       "      <td>5.0513%</td>\n",
       "      <td>1.4354%</td>\n",
       "      <td>-0.0973%</td>\n",
       "      <td>3.3431%</td>\n",
       "      <td>4.1500%</td>\n",
       "      <td>3.1250%</td>\n",
       "      <td>7.4737%</td>\n",
       "      <td>8.0202%</td>\n",
       "      <td>4.6491%</td>\n",
       "      <td>-1.9347%</td>\n",
       "    </tr>\n",
       "    <tr>\n",
       "      <th>2000-01-07</th>\n",
       "      <td>-4.8924%</td>\n",
       "      <td>-0.1183%</td>\n",
       "      <td>7.9997%</td>\n",
       "      <td>-7.9876%</td>\n",
       "      <td>-7.9715%</td>\n",
       "      <td>7.7500%</td>\n",
       "      <td>-3.5412%</td>\n",
       "      <td>0.0297%</td>\n",
       "      <td>4.4351%</td>\n",
       "      <td>5.4519%</td>\n",
       "      <td>...</td>\n",
       "      <td>4.7126%</td>\n",
       "      <td>-7.9622%</td>\n",
       "      <td>-7.9991%</td>\n",
       "      <td>7.9729%</td>\n",
       "      <td>8.0144%</td>\n",
       "      <td>-0.1855%</td>\n",
       "      <td>2.1991%</td>\n",
       "      <td>-2.1070%</td>\n",
       "      <td>-2.3470%</td>\n",
       "      <td>-7.9990%</td>\n",
       "    </tr>\n",
       "    <tr>\n",
       "      <th>2000-01-10</th>\n",
       "      <td>3.0864%</td>\n",
       "      <td>1.3426%</td>\n",
       "      <td>7.5074%</td>\n",
       "      <td>-3.3386%</td>\n",
       "      <td>-1.6480%</td>\n",
       "      <td>1.3148%</td>\n",
       "      <td>-0.5587%</td>\n",
       "      <td>-1.4553%</td>\n",
       "      <td>-6.5802%</td>\n",
       "      <td>0.7584%</td>\n",
       "      <td>...</td>\n",
       "      <td>-1.3904%</td>\n",
       "      <td>-1.8245%</td>\n",
       "      <td>-4.5933%</td>\n",
       "      <td>0.8827%</td>\n",
       "      <td>7.8991%</td>\n",
       "      <td>7.0012%</td>\n",
       "      <td>5.9901%</td>\n",
       "      <td>-0.9908%</td>\n",
       "      <td>2.1459%</td>\n",
       "      <td>0.1353%</td>\n",
       "    </tr>\n",
       "  </tbody>\n",
       "</table>\n",
       "<p>5 rows × 28 columns</p>\n",
       "</div>"
      ],
      "text/plain": [
       "            AXISBANK.NS  BPCL.NS  BRITANNIA.NS  CIPLA.NS  DRREDDY.NS  \\\n",
       "Date                                                                   \n",
       "2000-01-04      3.8610% -7.2010%      -0.3105%   0.5421%     8.0026%   \n",
       "2000-01-05     -2.6022% -2.8475%      -2.5512%  -2.0611%    -3.7386%   \n",
       "2000-01-06     -2.4809%  5.6536%       6.8476%  -5.5190%     5.9628%   \n",
       "2000-01-07     -4.8924% -0.1183%       7.9997%  -7.9876%    -7.9715%   \n",
       "2000-01-10      3.0864%  1.3426%       7.5074%  -3.3386%    -1.6480%   \n",
       "\n",
       "            EICHERMOT.NS  GAIL.NS  HDFCBANK.NS  HINDALCO.NS  HINDUNILVR.NS  \\\n",
       "Date                                                                         \n",
       "2000-01-04       5.2201% -3.4207%      2.2353%      3.7928%       -1.1484%   \n",
       "2000-01-05       8.0739% -4.7476%     -3.9413%      7.9968%       -3.5576%   \n",
       "2000-01-06       8.0108%  2.7690%      0.8086%      7.8264%        4.0138%   \n",
       "2000-01-07       7.7500% -3.5412%      0.0297%      4.4351%        5.4519%   \n",
       "2000-01-10       1.3148% -0.5587%     -1.4553%     -6.5802%        0.7584%   \n",
       "\n",
       "            ...  SBIN.NS  SIEMENS.NS  SUNPHARMA.NS  TATACONSUM.NS  \\\n",
       "Date        ...                                                     \n",
       "2000-01-04  ...  6.3411%     0.2936%      -1.3405%       -2.4092%   \n",
       "2000-01-05  ... -4.1104%    -4.4003%      -3.5102%       -4.1659%   \n",
       "2000-01-06  ...  5.0513%     1.4354%      -0.0973%        3.3431%   \n",
       "2000-01-07  ...  4.7126%    -7.9622%      -7.9991%        7.9729%   \n",
       "2000-01-10  ... -1.3904%    -1.8245%      -4.5933%        0.8827%   \n",
       "\n",
       "            TATAMOTORS.NS  TATAPOWER.NS  TATASTEEL.NS  TITAN.NS  VEDL.NS  \\\n",
       "Date                                                                       \n",
       "2000-01-04       -3.9446%       0.1955%      -1.0823%  -5.3308% -1.4181%   \n",
       "2000-01-05        2.4256%       1.9506%       3.8130%  -6.1058% -0.6103%   \n",
       "2000-01-06        4.1500%       3.1250%       7.4737%   8.0202%  4.6491%   \n",
       "2000-01-07        8.0144%      -0.1855%       2.1991%  -2.1070% -2.3470%   \n",
       "2000-01-10        7.8991%       7.0012%       5.9901%  -0.9908%  2.1459%   \n",
       "\n",
       "            WIPRO.NS  \n",
       "Date                  \n",
       "2000-01-04   8.0005%  \n",
       "2000-01-05   1.6298%  \n",
       "2000-01-06  -1.9347%  \n",
       "2000-01-07  -7.9990%  \n",
       "2000-01-10   0.1353%  \n",
       "\n",
       "[5 rows x 28 columns]"
      ]
     },
     "metadata": {},
     "output_type": "display_data"
    }
   ],
   "source": [
    "# Calculating returns\n",
    "\n",
    "Y = data[assets].pct_change().dropna()\n",
    "\n",
    "display(Y.head())"
   ]
  },
  {
   "cell_type": "markdown",
   "metadata": {},
   "source": [
    "## 2. Estimating Mean Variance Portfolios\n",
    "\n",
    "### 2.1 Calculating the portfolio that maximizes Sharpe ratio."
   ]
  },
  {
   "cell_type": "code",
   "execution_count": 46,
   "metadata": {},
   "outputs": [
    {
     "data": {
      "text/html": [
       "<div>\n",
       "<style scoped>\n",
       "    .dataframe tbody tr th:only-of-type {\n",
       "        vertical-align: middle;\n",
       "    }\n",
       "\n",
       "    .dataframe tbody tr th {\n",
       "        vertical-align: top;\n",
       "    }\n",
       "\n",
       "    .dataframe thead th {\n",
       "        text-align: right;\n",
       "    }\n",
       "</style>\n",
       "<table border=\"1\" class=\"dataframe\">\n",
       "  <thead>\n",
       "    <tr style=\"text-align: right;\">\n",
       "      <th></th>\n",
       "      <th>AXISBANK.NS</th>\n",
       "      <th>BPCL.NS</th>\n",
       "      <th>BRITANNIA.NS</th>\n",
       "      <th>CIPLA.NS</th>\n",
       "      <th>DRREDDY.NS</th>\n",
       "      <th>EICHERMOT.NS</th>\n",
       "      <th>GAIL.NS</th>\n",
       "      <th>HDFCBANK.NS</th>\n",
       "      <th>HINDALCO.NS</th>\n",
       "      <th>HINDUNILVR.NS</th>\n",
       "      <th>...</th>\n",
       "      <th>SBIN.NS</th>\n",
       "      <th>SIEMENS.NS</th>\n",
       "      <th>SUNPHARMA.NS</th>\n",
       "      <th>TATACONSUM.NS</th>\n",
       "      <th>TATAMOTORS.NS</th>\n",
       "      <th>TATAPOWER.NS</th>\n",
       "      <th>TATASTEEL.NS</th>\n",
       "      <th>TITAN.NS</th>\n",
       "      <th>VEDL.NS</th>\n",
       "      <th>WIPRO.NS</th>\n",
       "    </tr>\n",
       "  </thead>\n",
       "  <tbody>\n",
       "    <tr>\n",
       "      <th>weights</th>\n",
       "      <td>0.0000%</td>\n",
       "      <td>0.0000%</td>\n",
       "      <td>0.0000%</td>\n",
       "      <td>85.0976%</td>\n",
       "      <td>0.0000%</td>\n",
       "      <td>2.2987%</td>\n",
       "      <td>0.0000%</td>\n",
       "      <td>0.0000%</td>\n",
       "      <td>0.0000%</td>\n",
       "      <td>0.0000%</td>\n",
       "      <td>...</td>\n",
       "      <td>0.0000%</td>\n",
       "      <td>0.0000%</td>\n",
       "      <td>0.0000%</td>\n",
       "      <td>0.0000%</td>\n",
       "      <td>0.0000%</td>\n",
       "      <td>0.0000%</td>\n",
       "      <td>12.6037%</td>\n",
       "      <td>0.0000%</td>\n",
       "      <td>0.0000%</td>\n",
       "      <td>0.0000%</td>\n",
       "    </tr>\n",
       "  </tbody>\n",
       "</table>\n",
       "<p>1 rows × 28 columns</p>\n",
       "</div>"
      ],
      "text/plain": [
       "         AXISBANK.NS  BPCL.NS  BRITANNIA.NS  CIPLA.NS  DRREDDY.NS  \\\n",
       "weights      0.0000%  0.0000%       0.0000%  85.0976%     0.0000%   \n",
       "\n",
       "         EICHERMOT.NS  GAIL.NS  HDFCBANK.NS  HINDALCO.NS  HINDUNILVR.NS  ...  \\\n",
       "weights       2.2987%  0.0000%      0.0000%      0.0000%        0.0000%  ...   \n",
       "\n",
       "         SBIN.NS  SIEMENS.NS  SUNPHARMA.NS  TATACONSUM.NS  TATAMOTORS.NS  \\\n",
       "weights  0.0000%     0.0000%       0.0000%        0.0000%        0.0000%   \n",
       "\n",
       "         TATAPOWER.NS  TATASTEEL.NS  TITAN.NS  VEDL.NS  WIPRO.NS  \n",
       "weights       0.0000%      12.6037%   0.0000%  0.0000%   0.0000%  \n",
       "\n",
       "[1 rows x 28 columns]"
      ]
     },
     "metadata": {},
     "output_type": "display_data"
    }
   ],
   "source": [
    "import riskfolio as rp\n",
    "\n",
    "# Building the portfolio object\n",
    "port = rp.Portfolio(returns=Y)\n",
    "\n",
    "# Calculating optimum portfolio\n",
    "\n",
    "# Select method and estimate input parameters:\n",
    "\n",
    "method_mu='hist' # Method to estimate expected returns based on historical data.\n",
    "method_cov='hist' # Method to estimate covariance matrix based on historical data.\n",
    "\n",
    "port.assets_stats(method_mu=method_mu, method_cov=method_cov, d=0.94)\n",
    "\n",
    "# Estimate optimal portfolio:\n",
    "\n",
    "model='Classic' # Could be Classic (historical), BL (Black Litterman) or FM (Factor Model)\n",
    "rm = 'CVaR'  # Risk measure used, this time will be variance\n",
    "obj = 'Sharpe' # Objective function, could be MinRisk, MaxRet, Utility or Sharpe\n",
    "hist = True # Use historical scenarios for risk measures that depend on scenarios\n",
    "rf = 0 # Risk free rate\n",
    "l = 0 # Risk aversion factor, only useful when obj is 'Utility'\n",
    "\n",
    "w = port.optimization(model=model, rm=rm, obj=obj, rf=rf, l=l, hist=hist)\n",
    "\n",
    "display(w.T)"
   ]
  },
  {
   "cell_type": "markdown",
   "metadata": {},
   "source": [
    "### 2.2 Plotting portfolio composition"
   ]
  },
  {
   "cell_type": "code",
   "execution_count": 47,
   "metadata": {
    "scrolled": false
   },
   "outputs": [
    {
     "data": {
      "image/png": "[encoded data removed]",
      "text/plain": [
       "<Figure size 720x432 with 1 Axes>"
      ]
     },
     "metadata": {},
     "output_type": "display_data"
    }
   ],
   "source": [
    "# Plotting the composition of the portfolio\n",
    "\n",
    "ax = rp.plot_pie(w=w,\n",
    "                 title='Sharpe Mean Variance',\n",
    "                 others=0.05,\n",
    "                 nrow=25,\n",
    "                 cmap=\"tab20\",\n",
    "                 height=6,\n",
    "                 width=10,\n",
    "                 ax=None)"
   ]
  },
  {
   "cell_type": "code",
   "execution_count": 48,
   "metadata": {},
   "outputs": [
    {
     "name": "stdout",
     "output_type": "stream",
     "text": [
      "Number of Assets: 3\n",
      "Number of Effective Assets: 1.3503047341348453\n"
     ]
    }
   ],
   "source": [
    "# Number of assets in portfolio\n",
    "n_assets = np.sum(np.where(np.round(w,4) > 0, 1, 0)).item()\n",
    "\n",
    "# Number of effective assets in portfolio\n",
    "nea = 1/np.sum(w ** 2).item()\n",
    "\n",
    "print('Number of Assets:', n_assets)\n",
    "print('Number of Effective Assets:', nea)"
   ]
  },
  {
   "cell_type": "markdown",
   "metadata": {},
   "source": [
    "### 2.3 Calculating the portfolio including a constraint on the maximum number of assets.\n",
    "\n",
    "This kind of constraint help us to put a limit in the maximum number of assets, this could be helpful for small investors that can't afford buy too many assets."
   ]
  },
  {
   "cell_type": "code",
   "execution_count": 49,
   "metadata": {},
   "outputs": [],
   "source": [
    "# import cvxpy as cp\n",
    "# import numpy\n",
    "\n",
    "# # Problem data.\n",
    "# m = 2000\n",
    "# n = 1000\n",
    "# numpy.random.seed(1)\n",
    "# A = numpy.random.randn(m, n)\n",
    "# b = cp.Parameter(m)\n",
    "\n",
    "# # Construct the problem.\n",
    "# x = cp.Variable(n)\n",
    "# prob = cp.Problem(cp.Minimize(cp.sum_squares(A @ x - b)),\n",
    "#                   [x >= 0])\n",
    "\n",
    "# b.value = numpy.random.randn(m)\n",
    "# prob.solve()\n",
    "# print(\"First solve time:\", prob.solver_stats.solve_time)\n",
    "\n",
    "# b.value = numpy.random.randn(m)\n",
    "# prob.solve(warm_start=True)\n",
    "# print(\"Second solve time:\", prob.solver_stats.solve_time)\n"
   ]
  },
  {
   "cell_type": "code",
   "execution_count": 50,
   "metadata": {},
   "outputs": [],
   "source": [
    "#print(cp.installed_solvers())\n",
    "#!pip3 install glpk\n",
    "!pip install PySCIPOpt\n"
   ]
  },
  {
   "cell_type": "code",
   "execution_count": 51,
   "metadata": {},
   "outputs": [],
   "source": [
    "# First we need to set a solver that support Mixed Integer Programming\n",
    "port.solvers = ['ECOS_BB']\n",
    "\n",
    "# Then we need to set the cardinality constraint (maximum number of assets)\n",
    "port.card = 5\n",
    "\n",
    "w = port.optimization(model=model, rm=rm, obj=obj, rf=rf, l=l, hist=hist)\n",
    "\n",
    "display(w.T)"
   ]
  },
  {
   "cell_type": "markdown",
   "metadata": {},
   "source": [
    "### 2.4 Plotting portfolio composition"
   ]
  },
  {
   "cell_type": "code",
   "execution_count": null,
   "metadata": {},
   "outputs": [
    {
     "ename": "ZeroDivisionError",
     "evalue": "integer division or modulo by zero",
     "output_type": "error",
     "traceback": [
      "\u001b[0;31m---------------------------------------------------------------------------\u001b[0m",
      "\u001b[0;31mZeroDivisionError\u001b[0m                         Traceback (most recent call last)",
      "\u001b[1;32m/home/divyanshu/Documents/GitHub/BTP/Final/NOA_opt.ipynb Cell 13\u001b[0m in \u001b[0;36m<cell line: 1>\u001b[0;34m()\u001b[0m\n\u001b[0;32m----> <a href='vscode-notebook-cell:/home/divyanshu/Documents/GitHub/BTP/Final/NOA_opt.ipynb#X14sZmlsZQ%3D%3D?line=0'>1</a>\u001b[0m ax \u001b[39m=\u001b[39m rp\u001b[39m.\u001b[39;49mplot_pie(w\u001b[39m=\u001b[39;49mw,\n\u001b[1;32m      <a href='vscode-notebook-cell:/home/divyanshu/Documents/GitHub/BTP/Final/NOA_opt.ipynb#X14sZmlsZQ%3D%3D?line=1'>2</a>\u001b[0m                  title\u001b[39m=\u001b[39;49m\u001b[39m'\u001b[39;49m\u001b[39mSharpe Mean CVaR\u001b[39;49m\u001b[39m'\u001b[39;49m,\n\u001b[1;32m      <a href='vscode-notebook-cell:/home/divyanshu/Documents/GitHub/BTP/Final/NOA_opt.ipynb#X14sZmlsZQ%3D%3D?line=2'>3</a>\u001b[0m                  others\u001b[39m=\u001b[39;49m\u001b[39m0.05\u001b[39;49m,\n\u001b[1;32m      <a href='vscode-notebook-cell:/home/divyanshu/Documents/GitHub/BTP/Final/NOA_opt.ipynb#X14sZmlsZQ%3D%3D?line=3'>4</a>\u001b[0m                  nrow\u001b[39m=\u001b[39;49m\u001b[39m25\u001b[39;49m,\n\u001b[1;32m      <a href='vscode-notebook-cell:/home/divyanshu/Documents/GitHub/BTP/Final/NOA_opt.ipynb#X14sZmlsZQ%3D%3D?line=4'>5</a>\u001b[0m                  cmap\u001b[39m=\u001b[39;49m\u001b[39m\"\u001b[39;49m\u001b[39mtab20\u001b[39;49m\u001b[39m\"\u001b[39;49m,\n\u001b[1;32m      <a href='vscode-notebook-cell:/home/divyanshu/Documents/GitHub/BTP/Final/NOA_opt.ipynb#X14sZmlsZQ%3D%3D?line=5'>6</a>\u001b[0m                  height\u001b[39m=\u001b[39;49m\u001b[39m6\u001b[39;49m,\n\u001b[1;32m      <a href='vscode-notebook-cell:/home/divyanshu/Documents/GitHub/BTP/Final/NOA_opt.ipynb#X14sZmlsZQ%3D%3D?line=6'>7</a>\u001b[0m                  width\u001b[39m=\u001b[39;49m\u001b[39m10\u001b[39;49m,\n\u001b[1;32m      <a href='vscode-notebook-cell:/home/divyanshu/Documents/GitHub/BTP/Final/NOA_opt.ipynb#X14sZmlsZQ%3D%3D?line=7'>8</a>\u001b[0m                  ax\u001b[39m=\u001b[39;49m\u001b[39mNone\u001b[39;49;00m)\n",
      "File \u001b[0;32m~/Documents/GitHub/BTP/lib/python3.10/site-packages/riskfolio/PlotFunctions.py:611\u001b[0m, in \u001b[0;36mplot_pie\u001b[0;34m(w, title, others, nrow, cmap, height, width, ax)\u001b[0m\n\u001b[1;32m    607\u001b[0m ax\u001b[39m.\u001b[39maxis(\u001b[39m\"\u001b[39m\u001b[39mequal\u001b[39m\u001b[39m\"\u001b[39m)\n\u001b[1;32m    609\u001b[0m n \u001b[39m=\u001b[39m \u001b[39mint\u001b[39m(np\u001b[39m.\u001b[39mceil(l \u001b[39m/\u001b[39m nrow))\n\u001b[0;32m--> 611\u001b[0m ax\u001b[39m.\u001b[39;49mlegend(wedges, labels, loc\u001b[39m=\u001b[39;49m\u001b[39m\"\u001b[39;49m\u001b[39mcenter left\u001b[39;49m\u001b[39m\"\u001b[39;49m, bbox_to_anchor\u001b[39m=\u001b[39;49m(\u001b[39m1\u001b[39;49m, \u001b[39m0.5\u001b[39;49m), ncol\u001b[39m=\u001b[39;49mn)\n\u001b[1;32m    613\u001b[0m bbox_props \u001b[39m=\u001b[39m \u001b[39mdict\u001b[39m(boxstyle\u001b[39m=\u001b[39m\u001b[39m\"\u001b[39m\u001b[39msquare,pad=0.3\u001b[39m\u001b[39m\"\u001b[39m, fc\u001b[39m=\u001b[39m\u001b[39m\"\u001b[39m\u001b[39mw\u001b[39m\u001b[39m\"\u001b[39m, ec\u001b[39m=\u001b[39m\u001b[39m\"\u001b[39m\u001b[39mk\u001b[39m\u001b[39m\"\u001b[39m, lw\u001b[39m=\u001b[39m\u001b[39m0.72\u001b[39m)\n\u001b[1;32m    614\u001b[0m kw \u001b[39m=\u001b[39m \u001b[39mdict\u001b[39m(\n\u001b[1;32m    615\u001b[0m     xycoords\u001b[39m=\u001b[39m\u001b[39m\"\u001b[39m\u001b[39mdata\u001b[39m\u001b[39m\"\u001b[39m,\n\u001b[1;32m    616\u001b[0m     textcoords\u001b[39m=\u001b[39m\u001b[39m\"\u001b[39m\u001b[39mdata\u001b[39m\u001b[39m\"\u001b[39m,\n\u001b[0;32m   (...)\u001b[0m\n\u001b[1;32m    620\u001b[0m     va\u001b[39m=\u001b[39m\u001b[39m\"\u001b[39m\u001b[39mcenter\u001b[39m\u001b[39m\"\u001b[39m,\n\u001b[1;32m    621\u001b[0m )\n",
      "File \u001b[0;32m~/Documents/GitHub/BTP/lib/python3.10/site-packages/matplotlib/axes/_axes.py:305\u001b[0m, in \u001b[0;36mAxes.legend\u001b[0;34m(self, *args, **kwargs)\u001b[0m\n\u001b[1;32m    303\u001b[0m \u001b[39mif\u001b[39;00m \u001b[39mlen\u001b[39m(extra_args):\n\u001b[1;32m    304\u001b[0m     \u001b[39mraise\u001b[39;00m \u001b[39mTypeError\u001b[39;00m(\u001b[39m'\u001b[39m\u001b[39mlegend only accepts two non-keyword arguments\u001b[39m\u001b[39m'\u001b[39m)\n\u001b[0;32m--> 305\u001b[0m \u001b[39mself\u001b[39m\u001b[39m.\u001b[39mlegend_ \u001b[39m=\u001b[39m mlegend\u001b[39m.\u001b[39;49mLegend(\u001b[39mself\u001b[39;49m, handles, labels, \u001b[39m*\u001b[39;49m\u001b[39m*\u001b[39;49mkwargs)\n\u001b[1;32m    306\u001b[0m \u001b[39mself\u001b[39m\u001b[39m.\u001b[39mlegend_\u001b[39m.\u001b[39m_remove_method \u001b[39m=\u001b[39m \u001b[39mself\u001b[39m\u001b[39m.\u001b[39m_remove_legend\n\u001b[1;32m    307\u001b[0m \u001b[39mreturn\u001b[39;00m \u001b[39mself\u001b[39m\u001b[39m.\u001b[39mlegend_\n",
      "File \u001b[0;32m~/Documents/GitHub/BTP/lib/python3.10/site-packages/matplotlib/legend.py:499\u001b[0m, in \u001b[0;36mLegend.__init__\u001b[0;34m(self, parent, handles, labels, loc, numpoints, markerscale, markerfirst, scatterpoints, scatteryoffsets, prop, fontsize, labelcolor, borderpad, labelspacing, handlelength, handleheight, handletextpad, borderaxespad, columnspacing, ncol, mode, fancybox, shadow, title, title_fontsize, framealpha, edgecolor, facecolor, bbox_to_anchor, bbox_transform, frameon, handler_map, title_fontproperties)\u001b[0m\n\u001b[1;32m    496\u001b[0m \u001b[39mself\u001b[39m\u001b[39m.\u001b[39m_set_artist_props(\u001b[39mself\u001b[39m\u001b[39m.\u001b[39mlegendPatch)\n\u001b[1;32m    498\u001b[0m \u001b[39m# init with null renderer\u001b[39;00m\n\u001b[0;32m--> 499\u001b[0m \u001b[39mself\u001b[39;49m\u001b[39m.\u001b[39;49m_init_legend_box(handles, labels, markerfirst)\n\u001b[1;32m    501\u001b[0m tmp \u001b[39m=\u001b[39m \u001b[39mself\u001b[39m\u001b[39m.\u001b[39m_loc_used_default\n\u001b[1;32m    502\u001b[0m \u001b[39mself\u001b[39m\u001b[39m.\u001b[39m_set_loc(loc)\n",
      "File \u001b[0;32m~/Documents/GitHub/BTP/lib/python3.10/site-packages/matplotlib/legend.py:789\u001b[0m, in \u001b[0;36mLegend._init_legend_box\u001b[0;34m(self, handles, labels, markerfirst)\u001b[0m\n\u001b[1;32m    784\u001b[0m \u001b[39mif\u001b[39;00m handles_and_labels:\n\u001b[1;32m    785\u001b[0m     \u001b[39m# We calculate number of rows in each column. The first\u001b[39;00m\n\u001b[1;32m    786\u001b[0m     \u001b[39m# (num_largecol) columns will have (nrows+1) rows, and remaining\u001b[39;00m\n\u001b[1;32m    787\u001b[0m     \u001b[39m# (num_smallcol) columns will have (nrows) rows.\u001b[39;00m\n\u001b[1;32m    788\u001b[0m     ncol \u001b[39m=\u001b[39m \u001b[39mmin\u001b[39m(\u001b[39mself\u001b[39m\u001b[39m.\u001b[39m_ncol, \u001b[39mlen\u001b[39m(handles_and_labels))\n\u001b[0;32m--> 789\u001b[0m     nrows, num_largecol \u001b[39m=\u001b[39m \u001b[39mdivmod\u001b[39;49m(\u001b[39mlen\u001b[39;49m(handles_and_labels), ncol)\n\u001b[1;32m    790\u001b[0m     num_smallcol \u001b[39m=\u001b[39m ncol \u001b[39m-\u001b[39m num_largecol\n\u001b[1;32m    791\u001b[0m     \u001b[39m# starting index of each column and number of rows in it.\u001b[39;00m\n",
      "\u001b[0;31mZeroDivisionError\u001b[0m: integer division or modulo by zero"
     ]
    },
    {
     "data": {
      "image/png": "[encoded data removed]",
      "text/plain": [
       "<Figure size 720x432 with 1 Axes>"
      ]
     },
     "metadata": {},
     "output_type": "display_data"
    }
   ],
   "source": [
    "ax = rp.plot_pie(w=w,\n",
    "                 title='Sharpe Mean CVaR',\n",
    "                 others=0.05,\n",
    "                 nrow=25,\n",
    "                 cmap=\"tab20\",\n",
    "                 height=6,\n",
    "                 width=10,\n",
    "                 ax=None)"
   ]
  },
  {
   "cell_type": "code",
   "execution_count": null,
   "metadata": {},
   "outputs": [
    {
     "name": "stdout",
     "output_type": "stream",
     "text": [
      "Number of Assets: 5\n",
      "Number of Effective Assets: 4.7563723226465635\n"
     ]
    }
   ],
   "source": [
    "# Number of assets in portfolio\n",
    "n_assets = np.sum(np.where(np.round(w,4) > 0, 1, 0)).item()\n",
    "\n",
    "# Number of effective assets in portfolio\n",
    "nea = 1/np.sum(w ** 2).item()\n",
    "\n",
    "print('Number of Assets:', n_assets)\n",
    "print('Number of Effective Assets:', nea)"
   ]
  }
 ],
 "metadata": {
  "kernelspec": {
   "display_name": "Python 3.10.6 ('BTP': venv)",
   "language": "python",
   "name": "python3"
  },
  "language_info": {
   "codemirror_mode": {
    "name": "ipython",
    "version": 3
   },
   "file_extension": ".py",
   "mimetype": "text/x-python",
   "name": "python",
   "nbconvert_exporter": "python",
   "pygments_lexer": "ipython3",
   "version": "3.10.6"
  },
  "vscode": {
   "interpreter": {
    "hash": "b1a27a5a447105c13e77292595ce5ca384a08e170441442e9efbbb2d2aa7a74f"
   }
  }
 },
 "nbformat": 4,
 "nbformat_minor": 4
}
